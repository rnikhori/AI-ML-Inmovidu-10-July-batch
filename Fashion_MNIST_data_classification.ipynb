{
  "nbformat": 4,
  "nbformat_minor": 0,
  "metadata": {
    "colab": {
      "name": "Fashion_MNIST_data_classification.ipynb",
      "provenance": [],
      "authorship_tag": "ABX9TyPP6D3vfd2Sh+R+geMweifx",
      "include_colab_link": true
    },
    "kernelspec": {
      "name": "python3",
      "display_name": "Python 3"
    },
    "language_info": {
      "name": "python"
    }
  },
  "cells": [
    {
      "cell_type": "markdown",
      "metadata": {
        "id": "view-in-github",
        "colab_type": "text"
      },
      "source": [
        "<a href=\"https://colab.research.google.com/github/rnikhori/AI-ML-Inmovidu-10-July-batch/blob/main/Fashion_MNIST_data_classification.ipynb\" target=\"_parent\"><img src=\"https://colab.research.google.com/assets/colab-badge.svg\" alt=\"Open In Colab\"/></a>"
      ]
    },
    {
      "cell_type": "code",
      "metadata": {
        "id": "4c_pHo-K9b_j"
      },
      "source": [
        ""
      ],
      "execution_count": 1,
      "outputs": []
    },
    {
      "cell_type": "markdown",
      "metadata": {
        "id": "LtsqW4S69ixj"
      },
      "source": [
        "# Fashion MNIST Data classification using CNN"
      ]
    },
    {
      "cell_type": "code",
      "metadata": {
        "id": "5Jn1Ya8L9p9j"
      },
      "source": [
        "## Import Libraries"
      ],
      "execution_count": 2,
      "outputs": []
    },
    {
      "cell_type": "code",
      "metadata": {
        "id": "qShDUUpg9yJr"
      },
      "source": [
        "import numpy as np\n",
        "import matplotlib.pyplot as plt\n",
        "import seaborn as sns\n",
        "import tensorflow as tf\n",
        "import keras"
      ],
      "execution_count": 3,
      "outputs": []
    },
    {
      "cell_type": "code",
      "metadata": {
        "id": "W2jX99fI-NLW"
      },
      "source": [
        "# Load data"
      ],
      "execution_count": 4,
      "outputs": []
    },
    {
      "cell_type": "code",
      "metadata": {
        "colab": {
          "base_uri": "https://localhost:8080/"
        },
        "id": "96V9JdN0-VxO",
        "outputId": "b368e080-e4c5-4015-f1b8-509d5c197ed9"
      },
      "source": [
        "(X_train, y_train), (X_test, y_test) = tf.keras.datasets.fashion_mnist.load_data()"
      ],
      "execution_count": 5,
      "outputs": [
        {
          "output_type": "stream",
          "text": [
            "Downloading data from https://storage.googleapis.com/tensorflow/tf-keras-datasets/train-labels-idx1-ubyte.gz\n",
            "32768/29515 [=================================] - 0s 0us/step\n",
            "40960/29515 [=========================================] - 0s 0us/step\n",
            "Downloading data from https://storage.googleapis.com/tensorflow/tf-keras-datasets/train-images-idx3-ubyte.gz\n",
            "26427392/26421880 [==============================] - 0s 0us/step\n",
            "26435584/26421880 [==============================] - 0s 0us/step\n",
            "Downloading data from https://storage.googleapis.com/tensorflow/tf-keras-datasets/t10k-labels-idx1-ubyte.gz\n",
            "16384/5148 [===============================================================================================] - 0s 0us/step\n",
            "Downloading data from https://storage.googleapis.com/tensorflow/tf-keras-datasets/t10k-images-idx3-ubyte.gz\n",
            "4423680/4422102 [==============================] - 0s 0us/step\n",
            "4431872/4422102 [==============================] - 0s 0us/step\n"
          ],
          "name": "stdout"
        }
      ]
    },
    {
      "cell_type": "code",
      "metadata": {
        "colab": {
          "base_uri": "https://localhost:8080/"
        },
        "id": "uXAd5EaT-vqN",
        "outputId": "2c3ef885-f299-4723-93ce-4b85231c280a"
      },
      "source": [
        "X_train.shape,y_train.shape"
      ],
      "execution_count": 6,
      "outputs": [
        {
          "output_type": "execute_result",
          "data": {
            "text/plain": [
              "((60000, 28, 28), (60000,))"
            ]
          },
          "metadata": {},
          "execution_count": 6
        }
      ]
    },
    {
      "cell_type": "code",
      "metadata": {
        "colab": {
          "base_uri": "https://localhost:8080/"
        },
        "id": "-RngepAy-60G",
        "outputId": "e6dde75f-1fd6-4ed5-a611-f2fe10d897a7"
      },
      "source": [
        "X_test.shape, y_test.shape"
      ],
      "execution_count": 7,
      "outputs": [
        {
          "output_type": "execute_result",
          "data": {
            "text/plain": [
              "((10000, 28, 28), (10000,))"
            ]
          },
          "metadata": {},
          "execution_count": 7
        }
      ]
    },
    {
      "cell_type": "code",
      "metadata": {
        "colab": {
          "base_uri": "https://localhost:8080/"
        },
        "id": "iTaXbpJW_IkX",
        "outputId": "491100e1-e914-4b2c-f7a9-83ffbcb22fd1"
      },
      "source": [
        "X_train[0]"
      ],
      "execution_count": 8,
      "outputs": [
        {
          "output_type": "execute_result",
          "data": {
            "text/plain": [
              "array([[  0,   0,   0,   0,   0,   0,   0,   0,   0,   0,   0,   0,   0,\n",
              "          0,   0,   0,   0,   0,   0,   0,   0,   0,   0,   0,   0,   0,\n",
              "          0,   0],\n",
              "       [  0,   0,   0,   0,   0,   0,   0,   0,   0,   0,   0,   0,   0,\n",
              "          0,   0,   0,   0,   0,   0,   0,   0,   0,   0,   0,   0,   0,\n",
              "          0,   0],\n",
              "       [  0,   0,   0,   0,   0,   0,   0,   0,   0,   0,   0,   0,   0,\n",
              "          0,   0,   0,   0,   0,   0,   0,   0,   0,   0,   0,   0,   0,\n",
              "          0,   0],\n",
              "       [  0,   0,   0,   0,   0,   0,   0,   0,   0,   0,   0,   0,   1,\n",
              "          0,   0,  13,  73,   0,   0,   1,   4,   0,   0,   0,   0,   1,\n",
              "          1,   0],\n",
              "       [  0,   0,   0,   0,   0,   0,   0,   0,   0,   0,   0,   0,   3,\n",
              "          0,  36, 136, 127,  62,  54,   0,   0,   0,   1,   3,   4,   0,\n",
              "          0,   3],\n",
              "       [  0,   0,   0,   0,   0,   0,   0,   0,   0,   0,   0,   0,   6,\n",
              "          0, 102, 204, 176, 134, 144, 123,  23,   0,   0,   0,   0,  12,\n",
              "         10,   0],\n",
              "       [  0,   0,   0,   0,   0,   0,   0,   0,   0,   0,   0,   0,   0,\n",
              "          0, 155, 236, 207, 178, 107, 156, 161, 109,  64,  23,  77, 130,\n",
              "         72,  15],\n",
              "       [  0,   0,   0,   0,   0,   0,   0,   0,   0,   0,   0,   1,   0,\n",
              "         69, 207, 223, 218, 216, 216, 163, 127, 121, 122, 146, 141,  88,\n",
              "        172,  66],\n",
              "       [  0,   0,   0,   0,   0,   0,   0,   0,   0,   1,   1,   1,   0,\n",
              "        200, 232, 232, 233, 229, 223, 223, 215, 213, 164, 127, 123, 196,\n",
              "        229,   0],\n",
              "       [  0,   0,   0,   0,   0,   0,   0,   0,   0,   0,   0,   0,   0,\n",
              "        183, 225, 216, 223, 228, 235, 227, 224, 222, 224, 221, 223, 245,\n",
              "        173,   0],\n",
              "       [  0,   0,   0,   0,   0,   0,   0,   0,   0,   0,   0,   0,   0,\n",
              "        193, 228, 218, 213, 198, 180, 212, 210, 211, 213, 223, 220, 243,\n",
              "        202,   0],\n",
              "       [  0,   0,   0,   0,   0,   0,   0,   0,   0,   1,   3,   0,  12,\n",
              "        219, 220, 212, 218, 192, 169, 227, 208, 218, 224, 212, 226, 197,\n",
              "        209,  52],\n",
              "       [  0,   0,   0,   0,   0,   0,   0,   0,   0,   0,   6,   0,  99,\n",
              "        244, 222, 220, 218, 203, 198, 221, 215, 213, 222, 220, 245, 119,\n",
              "        167,  56],\n",
              "       [  0,   0,   0,   0,   0,   0,   0,   0,   0,   4,   0,   0,  55,\n",
              "        236, 228, 230, 228, 240, 232, 213, 218, 223, 234, 217, 217, 209,\n",
              "         92,   0],\n",
              "       [  0,   0,   1,   4,   6,   7,   2,   0,   0,   0,   0,   0, 237,\n",
              "        226, 217, 223, 222, 219, 222, 221, 216, 223, 229, 215, 218, 255,\n",
              "         77,   0],\n",
              "       [  0,   3,   0,   0,   0,   0,   0,   0,   0,  62, 145, 204, 228,\n",
              "        207, 213, 221, 218, 208, 211, 218, 224, 223, 219, 215, 224, 244,\n",
              "        159,   0],\n",
              "       [  0,   0,   0,   0,  18,  44,  82, 107, 189, 228, 220, 222, 217,\n",
              "        226, 200, 205, 211, 230, 224, 234, 176, 188, 250, 248, 233, 238,\n",
              "        215,   0],\n",
              "       [  0,  57, 187, 208, 224, 221, 224, 208, 204, 214, 208, 209, 200,\n",
              "        159, 245, 193, 206, 223, 255, 255, 221, 234, 221, 211, 220, 232,\n",
              "        246,   0],\n",
              "       [  3, 202, 228, 224, 221, 211, 211, 214, 205, 205, 205, 220, 240,\n",
              "         80, 150, 255, 229, 221, 188, 154, 191, 210, 204, 209, 222, 228,\n",
              "        225,   0],\n",
              "       [ 98, 233, 198, 210, 222, 229, 229, 234, 249, 220, 194, 215, 217,\n",
              "        241,  65,  73, 106, 117, 168, 219, 221, 215, 217, 223, 223, 224,\n",
              "        229,  29],\n",
              "       [ 75, 204, 212, 204, 193, 205, 211, 225, 216, 185, 197, 206, 198,\n",
              "        213, 240, 195, 227, 245, 239, 223, 218, 212, 209, 222, 220, 221,\n",
              "        230,  67],\n",
              "       [ 48, 203, 183, 194, 213, 197, 185, 190, 194, 192, 202, 214, 219,\n",
              "        221, 220, 236, 225, 216, 199, 206, 186, 181, 177, 172, 181, 205,\n",
              "        206, 115],\n",
              "       [  0, 122, 219, 193, 179, 171, 183, 196, 204, 210, 213, 207, 211,\n",
              "        210, 200, 196, 194, 191, 195, 191, 198, 192, 176, 156, 167, 177,\n",
              "        210,  92],\n",
              "       [  0,   0,  74, 189, 212, 191, 175, 172, 175, 181, 185, 188, 189,\n",
              "        188, 193, 198, 204, 209, 210, 210, 211, 188, 188, 194, 192, 216,\n",
              "        170,   0],\n",
              "       [  2,   0,   0,   0,  66, 200, 222, 237, 239, 242, 246, 243, 244,\n",
              "        221, 220, 193, 191, 179, 182, 182, 181, 176, 166, 168,  99,  58,\n",
              "          0,   0],\n",
              "       [  0,   0,   0,   0,   0,   0,   0,  40,  61,  44,  72,  41,  35,\n",
              "          0,   0,   0,   0,   0,   0,   0,   0,   0,   0,   0,   0,   0,\n",
              "          0,   0],\n",
              "       [  0,   0,   0,   0,   0,   0,   0,   0,   0,   0,   0,   0,   0,\n",
              "          0,   0,   0,   0,   0,   0,   0,   0,   0,   0,   0,   0,   0,\n",
              "          0,   0],\n",
              "       [  0,   0,   0,   0,   0,   0,   0,   0,   0,   0,   0,   0,   0,\n",
              "          0,   0,   0,   0,   0,   0,   0,   0,   0,   0,   0,   0,   0,\n",
              "          0,   0]], dtype=uint8)"
            ]
          },
          "metadata": {},
          "execution_count": 8
        }
      ]
    },
    {
      "cell_type": "code",
      "metadata": {
        "colab": {
          "base_uri": "https://localhost:8080/"
        },
        "id": "TDOk_c3j_RbN",
        "outputId": "9ca36918-dd81-4bf2-952e-a53518c541bb"
      },
      "source": [
        "y_train[0]"
      ],
      "execution_count": 9,
      "outputs": [
        {
          "output_type": "execute_result",
          "data": {
            "text/plain": [
              "9"
            ]
          },
          "metadata": {},
          "execution_count": 9
        }
      ]
    },
    {
      "cell_type": "code",
      "metadata": {
        "colab": {
          "base_uri": "https://localhost:8080/",
          "height": 35
        },
        "id": "STvMDqe7_iAO",
        "outputId": "b14e2a63-cfd5-4d76-ec92-5ecf521a8931"
      },
      "source": [
        "'''\n",
        "0\tT-shirt/top\n",
        "1\tTrouser\n",
        "2\tPullover\n",
        "3\tDress\n",
        "4\tCoat\n",
        "5\tSandal\n",
        "6\tShirt\n",
        "7\tSneaker\n",
        "8\tBag\n",
        "9\tAnkle boot\n",
        "'''"
      ],
      "execution_count": 10,
      "outputs": [
        {
          "output_type": "execute_result",
          "data": {
            "application/vnd.google.colaboratory.intrinsic+json": {
              "type": "string"
            },
            "text/plain": [
              "'\\n0\\tT-shirt/top\\n1\\tTrouser\\n2\\tPullover\\n3\\tDress\\n4\\tCoat\\n5\\tSandal\\n6\\tShirt\\n7\\tSneaker\\n8\\tBag\\n9\\tAnkle boot\\n'"
            ]
          },
          "metadata": {},
          "execution_count": 10
        }
      ]
    },
    {
      "cell_type": "code",
      "metadata": {
        "id": "_lavJbu8_1mm"
      },
      "source": [
        "# show image"
      ],
      "execution_count": 11,
      "outputs": []
    },
    {
      "cell_type": "code",
      "metadata": {
        "colab": {
          "base_uri": "https://localhost:8080/",
          "height": 283
        },
        "id": "ydQGuLi5AgRm",
        "outputId": "66d0bf60-96d1-4e75-8684-72320931fb05"
      },
      "source": [
        "plt.imshow(X_train[0],cmap='Greys')"
      ],
      "execution_count": 12,
      "outputs": [
        {
          "output_type": "execute_result",
          "data": {
            "text/plain": [
              "<matplotlib.image.AxesImage at 0x7ff377612810>"
            ]
          },
          "metadata": {},
          "execution_count": 12
        },
        {
          "output_type": "display_data",
          "data": {
            "image/png": "[encoded data removed]",
            "text/plain": [
              "<Figure size 432x288 with 1 Axes>"
            ]
          },
          "metadata": {
            "needs_background": "light"
          }
        }
      ]
    },
    {
      "cell_type": "code",
      "metadata": {
        "colab": {
          "base_uri": "https://localhost:8080/",
          "height": 283
        },
        "id": "ev597NxyAxYO",
        "outputId": "1f2df97b-b74c-41c1-d5f4-799efc10ed41"
      },
      "source": [
        "plt.imshow(X_train[1],cmap='Greys')"
      ],
      "execution_count": 13,
      "outputs": [
        {
          "output_type": "execute_result",
          "data": {
            "text/plain": [
              "<matplotlib.image.AxesImage at 0x7ff3770f4d50>"
            ]
          },
          "metadata": {},
          "execution_count": 13
        },
        {
          "output_type": "display_data",
          "data": {
            "image/png": "[encoded data removed]",
            "text/plain": [
              "<Figure size 432x288 with 1 Axes>"
            ]
          },
          "metadata": {
            "needs_background": "light"
          }
        }
      ]
    },
    {
      "cell_type": "code",
      "metadata": {
        "colab": {
          "base_uri": "https://localhost:8080/",
          "height": 917
        },
        "id": "S8TNY1yDBgjv",
        "outputId": "47aa29af-4721-4069-e8fe-858dbaaf51ee"
      },
      "source": [
        "class_labels = [\"T-shirt/top\",\"Trouser\",\t\"Pullover\",\"Dress\",\"Coat\",\t\"Sandal\",\t\"Shirt\",\t\"Sneaker\",\t\"Bag\",\t\"Ankle boot\"]\n",
        "plt.figure(figsize=(16,16))\n",
        "j=1\n",
        "for i in np.random.randint(0,1000,25):\n",
        "    plt.subplot(5,5,j); j+=1\n",
        "    plt.imshow(X_train[i],cmap=\"Greys\")\n",
        "    plt.axis('off')\n",
        "    plt.title('{} / {}'.format(class_labels[y_train[i]],y_train[i]))"
      ],
      "execution_count": 14,
      "outputs": [
        {
          "output_type": "display_data",
          "data": {
            "image/png": "[encoded data removed]",
            "text/plain": [
              "<Figure size 1152x1152 with 25 Axes>"
            ]
          },
          "metadata": {
            "needs_background": "light"
          }
        }
      ]
    },
    {
      "cell_type": "code",
      "metadata": {
        "colab": {
          "base_uri": "https://localhost:8080/"
        },
        "id": "Ylq_m_1UDwJk",
        "outputId": "c0021dac-3925-42fd-e98a-c2dfd441136c"
      },
      "source": [
        "X_train.shape"
      ],
      "execution_count": 15,
      "outputs": [
        {
          "output_type": "execute_result",
          "data": {
            "text/plain": [
              "(60000, 28, 28)"
            ]
          },
          "metadata": {},
          "execution_count": 15
        }
      ]
    },
    {
      "cell_type": "code",
      "metadata": {
        "colab": {
          "base_uri": "https://localhost:8080/"
        },
        "id": "gWHILbSCGIQG",
        "outputId": "b0426086-3e30-48b0-fa74-76d0fcaa18bc"
      },
      "source": [
        "X_train.ndim"
      ],
      "execution_count": 16,
      "outputs": [
        {
          "output_type": "execute_result",
          "data": {
            "text/plain": [
              "3"
            ]
          },
          "metadata": {},
          "execution_count": 16
        }
      ]
    },
    {
      "cell_type": "code",
      "metadata": {
        "id": "gYb_JNKMGQuk"
      },
      "source": [
        "X_train = np.expand_dims(X_train,-1)"
      ],
      "execution_count": 17,
      "outputs": []
    },
    {
      "cell_type": "code",
      "metadata": {
        "colab": {
          "base_uri": "https://localhost:8080/"
        },
        "id": "cc6keTL8Gg51",
        "outputId": "a76ec165-c4a3-450e-c5fd-ab06bb5e2a45"
      },
      "source": [
        "X_train.shape"
      ],
      "execution_count": 18,
      "outputs": [
        {
          "output_type": "execute_result",
          "data": {
            "text/plain": [
              "(60000, 28, 28, 1)"
            ]
          },
          "metadata": {},
          "execution_count": 18
        }
      ]
    },
    {
      "cell_type": "code",
      "metadata": {
        "colab": {
          "base_uri": "https://localhost:8080/"
        },
        "id": "QwPNpoTOGj9W",
        "outputId": "93f974de-2917-4458-c4f6-144183cc40b9"
      },
      "source": [
        "X_train.ndim"
      ],
      "execution_count": 19,
      "outputs": [
        {
          "output_type": "execute_result",
          "data": {
            "text/plain": [
              "4"
            ]
          },
          "metadata": {},
          "execution_count": 19
        }
      ]
    },
    {
      "cell_type": "code",
      "metadata": {
        "id": "mGI-BXDSGqnQ"
      },
      "source": [
        "# feature scaling "
      ],
      "execution_count": 20,
      "outputs": []
    },
    {
      "cell_type": "code",
      "metadata": {
        "colab": {
          "base_uri": "https://localhost:8080/"
        },
        "id": "XvpX-P5WGxUd",
        "outputId": "c45c68b3-9b82-431e-c12d-8581db275346"
      },
      "source": [
        "X_train[0]"
      ],
      "execution_count": 21,
      "outputs": [
        {
          "output_type": "execute_result",
          "data": {
            "text/plain": [
              "array([[[  0],\n",
              "        [  0],\n",
              "        [  0],\n",
              "        [  0],\n",
              "        [  0],\n",
              "        [  0],\n",
              "        [  0],\n",
              "        [  0],\n",
              "        [  0],\n",
              "        [  0],\n",
              "        [  0],\n",
              "        [  0],\n",
              "        [  0],\n",
              "        [  0],\n",
              "        [  0],\n",
              "        [  0],\n",
              "        [  0],\n",
              "        [  0],\n",
              "        [  0],\n",
              "        [  0],\n",
              "        [  0],\n",
              "        [  0],\n",
              "        [  0],\n",
              "        [  0],\n",
              "        [  0],\n",
              "        [  0],\n",
              "        [  0],\n",
              "        [  0]],\n",
              "\n",
              "       [[  0],\n",
              "        [  0],\n",
              "        [  0],\n",
              "        [  0],\n",
              "        [  0],\n",
              "        [  0],\n",
              "        [  0],\n",
              "        [  0],\n",
              "        [  0],\n",
              "        [  0],\n",
              "        [  0],\n",
              "        [  0],\n",
              "        [  0],\n",
              "        [  0],\n",
              "        [  0],\n",
              "        [  0],\n",
              "        [  0],\n",
              "        [  0],\n",
              "        [  0],\n",
              "        [  0],\n",
              "        [  0],\n",
              "        [  0],\n",
              "        [  0],\n",
              "        [  0],\n",
              "        [  0],\n",
              "        [  0],\n",
              "        [  0],\n",
              "        [  0]],\n",
              "\n",
              "       [[  0],\n",
              "        [  0],\n",
              "        [  0],\n",
              "        [  0],\n",
              "        [  0],\n",
              "        [  0],\n",
              "        [  0],\n",
              "        [  0],\n",
              "        [  0],\n",
              "        [  0],\n",
              "        [  0],\n",
              "        [  0],\n",
              "        [  0],\n",
              "        [  0],\n",
              "        [  0],\n",
              "        [  0],\n",
              "        [  0],\n",
              "        [  0],\n",
              "        [  0],\n",
              "        [  0],\n",
              "        [  0],\n",
              "        [  0],\n",
              "        [  0],\n",
              "        [  0],\n",
              "        [  0],\n",
              "        [  0],\n",
              "        [  0],\n",
              "        [  0]],\n",
              "\n",
              "       [[  0],\n",
              "        [  0],\n",
              "        [  0],\n",
              "        [  0],\n",
              "        [  0],\n",
              "        [  0],\n",
              "        [  0],\n",
              "        [  0],\n",
              "        [  0],\n",
              "        [  0],\n",
              "        [  0],\n",
              "        [  0],\n",
              "        [  1],\n",
              "        [  0],\n",
              "        [  0],\n",
              "        [ 13],\n",
              "        [ 73],\n",
              "        [  0],\n",
              "        [  0],\n",
              "        [  1],\n",
              "        [  4],\n",
              "        [  0],\n",
              "        [  0],\n",
              "        [  0],\n",
              "        [  0],\n",
              "        [  1],\n",
              "        [  1],\n",
              "        [  0]],\n",
              "\n",
              "       [[  0],\n",
              "        [  0],\n",
              "        [  0],\n",
              "        [  0],\n",
              "        [  0],\n",
              "        [  0],\n",
              "        [  0],\n",
              "        [  0],\n",
              "        [  0],\n",
              "        [  0],\n",
              "        [  0],\n",
              "        [  0],\n",
              "        [  3],\n",
              "        [  0],\n",
              "        [ 36],\n",
              "        [136],\n",
              "        [127],\n",
              "        [ 62],\n",
              "        [ 54],\n",
              "        [  0],\n",
              "        [  0],\n",
              "        [  0],\n",
              "        [  1],\n",
              "        [  3],\n",
              "        [  4],\n",
              "        [  0],\n",
              "        [  0],\n",
              "        [  3]],\n",
              "\n",
              "       [[  0],\n",
              "        [  0],\n",
              "        [  0],\n",
              "        [  0],\n",
              "        [  0],\n",
              "        [  0],\n",
              "        [  0],\n",
              "        [  0],\n",
              "        [  0],\n",
              "        [  0],\n",
              "        [  0],\n",
              "        [  0],\n",
              "        [  6],\n",
              "        [  0],\n",
              "        [102],\n",
              "        [204],\n",
              "        [176],\n",
              "        [134],\n",
              "        [144],\n",
              "        [123],\n",
              "        [ 23],\n",
              "        [  0],\n",
              "        [  0],\n",
              "        [  0],\n",
              "        [  0],\n",
              "        [ 12],\n",
              "        [ 10],\n",
              "        [  0]],\n",
              "\n",
              "       [[  0],\n",
              "        [  0],\n",
              "        [  0],\n",
              "        [  0],\n",
              "        [  0],\n",
              "        [  0],\n",
              "        [  0],\n",
              "        [  0],\n",
              "        [  0],\n",
              "        [  0],\n",
              "        [  0],\n",
              "        [  0],\n",
              "        [  0],\n",
              "        [  0],\n",
              "        [155],\n",
              "        [236],\n",
              "        [207],\n",
              "        [178],\n",
              "        [107],\n",
              "        [156],\n",
              "        [161],\n",
              "        [109],\n",
              "        [ 64],\n",
              "        [ 23],\n",
              "        [ 77],\n",
              "        [130],\n",
              "        [ 72],\n",
              "        [ 15]],\n",
              "\n",
              "       [[  0],\n",
              "        [  0],\n",
              "        [  0],\n",
              "        [  0],\n",
              "        [  0],\n",
              "        [  0],\n",
              "        [  0],\n",
              "        [  0],\n",
              "        [  0],\n",
              "        [  0],\n",
              "        [  0],\n",
              "        [  1],\n",
              "        [  0],\n",
              "        [ 69],\n",
              "        [207],\n",
              "        [223],\n",
              "        [218],\n",
              "        [216],\n",
              "        [216],\n",
              "        [163],\n",
              "        [127],\n",
              "        [121],\n",
              "        [122],\n",
              "        [146],\n",
              "        [141],\n",
              "        [ 88],\n",
              "        [172],\n",
              "        [ 66]],\n",
              "\n",
              "       [[  0],\n",
              "        [  0],\n",
              "        [  0],\n",
              "        [  0],\n",
              "        [  0],\n",
              "        [  0],\n",
              "        [  0],\n",
              "        [  0],\n",
              "        [  0],\n",
              "        [  1],\n",
              "        [  1],\n",
              "        [  1],\n",
              "        [  0],\n",
              "        [200],\n",
              "        [232],\n",
              "        [232],\n",
              "        [233],\n",
              "        [229],\n",
              "        [223],\n",
              "        [223],\n",
              "        [215],\n",
              "        [213],\n",
              "        [164],\n",
              "        [127],\n",
              "        [123],\n",
              "        [196],\n",
              "        [229],\n",
              "        [  0]],\n",
              "\n",
              "       [[  0],\n",
              "        [  0],\n",
              "        [  0],\n",
              "        [  0],\n",
              "        [  0],\n",
              "        [  0],\n",
              "        [  0],\n",
              "        [  0],\n",
              "        [  0],\n",
              "        [  0],\n",
              "        [  0],\n",
              "        [  0],\n",
              "        [  0],\n",
              "        [183],\n",
              "        [225],\n",
              "        [216],\n",
              "        [223],\n",
              "        [228],\n",
              "        [235],\n",
              "        [227],\n",
              "        [224],\n",
              "        [222],\n",
              "        [224],\n",
              "        [221],\n",
              "        [223],\n",
              "        [245],\n",
              "        [173],\n",
              "        [  0]],\n",
              "\n",
              "       [[  0],\n",
              "        [  0],\n",
              "        [  0],\n",
              "        [  0],\n",
              "        [  0],\n",
              "        [  0],\n",
              "        [  0],\n",
              "        [  0],\n",
              "        [  0],\n",
              "        [  0],\n",
              "        [  0],\n",
              "        [  0],\n",
              "        [  0],\n",
              "        [193],\n",
              "        [228],\n",
              "        [218],\n",
              "        [213],\n",
              "        [198],\n",
              "        [180],\n",
              "        [212],\n",
              "        [210],\n",
              "        [211],\n",
              "        [213],\n",
              "        [223],\n",
              "        [220],\n",
              "        [243],\n",
              "        [202],\n",
              "        [  0]],\n",
              "\n",
              "       [[  0],\n",
              "        [  0],\n",
              "        [  0],\n",
              "        [  0],\n",
              "        [  0],\n",
              "        [  0],\n",
              "        [  0],\n",
              "        [  0],\n",
              "        [  0],\n",
              "        [  1],\n",
              "        [  3],\n",
              "        [  0],\n",
              "        [ 12],\n",
              "        [219],\n",
              "        [220],\n",
              "        [212],\n",
              "        [218],\n",
              "        [192],\n",
              "        [169],\n",
              "        [227],\n",
              "        [208],\n",
              "        [218],\n",
              "        [224],\n",
              "        [212],\n",
              "        [226],\n",
              "        [197],\n",
              "        [209],\n",
              "        [ 52]],\n",
              "\n",
              "       [[  0],\n",
              "        [  0],\n",
              "        [  0],\n",
              "        [  0],\n",
              "        [  0],\n",
              "        [  0],\n",
              "        [  0],\n",
              "        [  0],\n",
              "        [  0],\n",
              "        [  0],\n",
              "        [  6],\n",
              "        [  0],\n",
              "        [ 99],\n",
              "        [244],\n",
              "        [222],\n",
              "        [220],\n",
              "        [218],\n",
              "        [203],\n",
              "        [198],\n",
              "        [221],\n",
              "        [215],\n",
              "        [213],\n",
              "        [222],\n",
              "        [220],\n",
              "        [245],\n",
              "        [119],\n",
              "        [167],\n",
              "        [ 56]],\n",
              "\n",
              "       [[  0],\n",
              "        [  0],\n",
              "        [  0],\n",
              "        [  0],\n",
              "        [  0],\n",
              "        [  0],\n",
              "        [  0],\n",
              "        [  0],\n",
              "        [  0],\n",
              "        [  4],\n",
              "        [  0],\n",
              "        [  0],\n",
              "        [ 55],\n",
              "        [236],\n",
              "        [228],\n",
              "        [230],\n",
              "        [228],\n",
              "        [240],\n",
              "        [232],\n",
              "        [213],\n",
              "        [218],\n",
              "        [223],\n",
              "        [234],\n",
              "        [217],\n",
              "        [217],\n",
              "        [209],\n",
              "        [ 92],\n",
              "        [  0]],\n",
              "\n",
              "       [[  0],\n",
              "        [  0],\n",
              "        [  1],\n",
              "        [  4],\n",
              "        [  6],\n",
              "        [  7],\n",
              "        [  2],\n",
              "        [  0],\n",
              "        [  0],\n",
              "        [  0],\n",
              "        [  0],\n",
              "        [  0],\n",
              "        [237],\n",
              "        [226],\n",
              "        [217],\n",
              "        [223],\n",
              "        [222],\n",
              "        [219],\n",
              "        [222],\n",
              "        [221],\n",
              "        [216],\n",
              "        [223],\n",
              "        [229],\n",
              "        [215],\n",
              "        [218],\n",
              "        [255],\n",
              "        [ 77],\n",
              "        [  0]],\n",
              "\n",
              "       [[  0],\n",
              "        [  3],\n",
              "        [  0],\n",
              "        [  0],\n",
              "        [  0],\n",
              "        [  0],\n",
              "        [  0],\n",
              "        [  0],\n",
              "        [  0],\n",
              "        [ 62],\n",
              "        [145],\n",
              "        [204],\n",
              "        [228],\n",
              "        [207],\n",
              "        [213],\n",
              "        [221],\n",
              "        [218],\n",
              "        [208],\n",
              "        [211],\n",
              "        [218],\n",
              "        [224],\n",
              "        [223],\n",
              "        [219],\n",
              "        [215],\n",
              "        [224],\n",
              "        [244],\n",
              "        [159],\n",
              "        [  0]],\n",
              "\n",
              "       [[  0],\n",
              "        [  0],\n",
              "        [  0],\n",
              "        [  0],\n",
              "        [ 18],\n",
              "        [ 44],\n",
              "        [ 82],\n",
              "        [107],\n",
              "        [189],\n",
              "        [228],\n",
              "        [220],\n",
              "        [222],\n",
              "        [217],\n",
              "        [226],\n",
              "        [200],\n",
              "        [205],\n",
              "        [211],\n",
              "        [230],\n",
              "        [224],\n",
              "        [234],\n",
              "        [176],\n",
              "        [188],\n",
              "        [250],\n",
              "        [248],\n",
              "        [233],\n",
              "        [238],\n",
              "        [215],\n",
              "        [  0]],\n",
              "\n",
              "       [[  0],\n",
              "        [ 57],\n",
              "        [187],\n",
              "        [208],\n",
              "        [224],\n",
              "        [221],\n",
              "        [224],\n",
              "        [208],\n",
              "        [204],\n",
              "        [214],\n",
              "        [208],\n",
              "        [209],\n",
              "        [200],\n",
              "        [159],\n",
              "        [245],\n",
              "        [193],\n",
              "        [206],\n",
              "        [223],\n",
              "        [255],\n",
              "        [255],\n",
              "        [221],\n",
              "        [234],\n",
              "        [221],\n",
              "        [211],\n",
              "        [220],\n",
              "        [232],\n",
              "        [246],\n",
              "        [  0]],\n",
              "\n",
              "       [[  3],\n",
              "        [202],\n",
              "        [228],\n",
              "        [224],\n",
              "        [221],\n",
              "        [211],\n",
              "        [211],\n",
              "        [214],\n",
              "        [205],\n",
              "        [205],\n",
              "        [205],\n",
              "        [220],\n",
              "        [240],\n",
              "        [ 80],\n",
              "        [150],\n",
              "        [255],\n",
              "        [229],\n",
              "        [221],\n",
              "        [188],\n",
              "        [154],\n",
              "        [191],\n",
              "        [210],\n",
              "        [204],\n",
              "        [209],\n",
              "        [222],\n",
              "        [228],\n",
              "        [225],\n",
              "        [  0]],\n",
              "\n",
              "       [[ 98],\n",
              "        [233],\n",
              "        [198],\n",
              "        [210],\n",
              "        [222],\n",
              "        [229],\n",
              "        [229],\n",
              "        [234],\n",
              "        [249],\n",
              "        [220],\n",
              "        [194],\n",
              "        [215],\n",
              "        [217],\n",
              "        [241],\n",
              "        [ 65],\n",
              "        [ 73],\n",
              "        [106],\n",
              "        [117],\n",
              "        [168],\n",
              "        [219],\n",
              "        [221],\n",
              "        [215],\n",
              "        [217],\n",
              "        [223],\n",
              "        [223],\n",
              "        [224],\n",
              "        [229],\n",
              "        [ 29]],\n",
              "\n",
              "       [[ 75],\n",
              "        [204],\n",
              "        [212],\n",
              "        [204],\n",
              "        [193],\n",
              "        [205],\n",
              "        [211],\n",
              "        [225],\n",
              "        [216],\n",
              "        [185],\n",
              "        [197],\n",
              "        [206],\n",
              "        [198],\n",
              "        [213],\n",
              "        [240],\n",
              "        [195],\n",
              "        [227],\n",
              "        [245],\n",
              "        [239],\n",
              "        [223],\n",
              "        [218],\n",
              "        [212],\n",
              "        [209],\n",
              "        [222],\n",
              "        [220],\n",
              "        [221],\n",
              "        [230],\n",
              "        [ 67]],\n",
              "\n",
              "       [[ 48],\n",
              "        [203],\n",
              "        [183],\n",
              "        [194],\n",
              "        [213],\n",
              "        [197],\n",
              "        [185],\n",
              "        [190],\n",
              "        [194],\n",
              "        [192],\n",
              "        [202],\n",
              "        [214],\n",
              "        [219],\n",
              "        [221],\n",
              "        [220],\n",
              "        [236],\n",
              "        [225],\n",
              "        [216],\n",
              "        [199],\n",
              "        [206],\n",
              "        [186],\n",
              "        [181],\n",
              "        [177],\n",
              "        [172],\n",
              "        [181],\n",
              "        [205],\n",
              "        [206],\n",
              "        [115]],\n",
              "\n",
              "       [[  0],\n",
              "        [122],\n",
              "        [219],\n",
              "        [193],\n",
              "        [179],\n",
              "        [171],\n",
              "        [183],\n",
              "        [196],\n",
              "        [204],\n",
              "        [210],\n",
              "        [213],\n",
              "        [207],\n",
              "        [211],\n",
              "        [210],\n",
              "        [200],\n",
              "        [196],\n",
              "        [194],\n",
              "        [191],\n",
              "        [195],\n",
              "        [191],\n",
              "        [198],\n",
              "        [192],\n",
              "        [176],\n",
              "        [156],\n",
              "        [167],\n",
              "        [177],\n",
              "        [210],\n",
              "        [ 92]],\n",
              "\n",
              "       [[  0],\n",
              "        [  0],\n",
              "        [ 74],\n",
              "        [189],\n",
              "        [212],\n",
              "        [191],\n",
              "        [175],\n",
              "        [172],\n",
              "        [175],\n",
              "        [181],\n",
              "        [185],\n",
              "        [188],\n",
              "        [189],\n",
              "        [188],\n",
              "        [193],\n",
              "        [198],\n",
              "        [204],\n",
              "        [209],\n",
              "        [210],\n",
              "        [210],\n",
              "        [211],\n",
              "        [188],\n",
              "        [188],\n",
              "        [194],\n",
              "        [192],\n",
              "        [216],\n",
              "        [170],\n",
              "        [  0]],\n",
              "\n",
              "       [[  2],\n",
              "        [  0],\n",
              "        [  0],\n",
              "        [  0],\n",
              "        [ 66],\n",
              "        [200],\n",
              "        [222],\n",
              "        [237],\n",
              "        [239],\n",
              "        [242],\n",
              "        [246],\n",
              "        [243],\n",
              "        [244],\n",
              "        [221],\n",
              "        [220],\n",
              "        [193],\n",
              "        [191],\n",
              "        [179],\n",
              "        [182],\n",
              "        [182],\n",
              "        [181],\n",
              "        [176],\n",
              "        [166],\n",
              "        [168],\n",
              "        [ 99],\n",
              "        [ 58],\n",
              "        [  0],\n",
              "        [  0]],\n",
              "\n",
              "       [[  0],\n",
              "        [  0],\n",
              "        [  0],\n",
              "        [  0],\n",
              "        [  0],\n",
              "        [  0],\n",
              "        [  0],\n",
              "        [ 40],\n",
              "        [ 61],\n",
              "        [ 44],\n",
              "        [ 72],\n",
              "        [ 41],\n",
              "        [ 35],\n",
              "        [  0],\n",
              "        [  0],\n",
              "        [  0],\n",
              "        [  0],\n",
              "        [  0],\n",
              "        [  0],\n",
              "        [  0],\n",
              "        [  0],\n",
              "        [  0],\n",
              "        [  0],\n",
              "        [  0],\n",
              "        [  0],\n",
              "        [  0],\n",
              "        [  0],\n",
              "        [  0]],\n",
              "\n",
              "       [[  0],\n",
              "        [  0],\n",
              "        [  0],\n",
              "        [  0],\n",
              "        [  0],\n",
              "        [  0],\n",
              "        [  0],\n",
              "        [  0],\n",
              "        [  0],\n",
              "        [  0],\n",
              "        [  0],\n",
              "        [  0],\n",
              "        [  0],\n",
              "        [  0],\n",
              "        [  0],\n",
              "        [  0],\n",
              "        [  0],\n",
              "        [  0],\n",
              "        [  0],\n",
              "        [  0],\n",
              "        [  0],\n",
              "        [  0],\n",
              "        [  0],\n",
              "        [  0],\n",
              "        [  0],\n",
              "        [  0],\n",
              "        [  0],\n",
              "        [  0]],\n",
              "\n",
              "       [[  0],\n",
              "        [  0],\n",
              "        [  0],\n",
              "        [  0],\n",
              "        [  0],\n",
              "        [  0],\n",
              "        [  0],\n",
              "        [  0],\n",
              "        [  0],\n",
              "        [  0],\n",
              "        [  0],\n",
              "        [  0],\n",
              "        [  0],\n",
              "        [  0],\n",
              "        [  0],\n",
              "        [  0],\n",
              "        [  0],\n",
              "        [  0],\n",
              "        [  0],\n",
              "        [  0],\n",
              "        [  0],\n",
              "        [  0],\n",
              "        [  0],\n",
              "        [  0],\n",
              "        [  0],\n",
              "        [  0],\n",
              "        [  0],\n",
              "        [  0]]], dtype=uint8)"
            ]
          },
          "metadata": {},
          "execution_count": 21
        }
      ]
    },
    {
      "cell_type": "code",
      "metadata": {
        "id": "GwglRplDG1Hn"
      },
      "source": [
        "X_train = X_train/255\n",
        "X_test= X_test/255"
      ],
      "execution_count": 22,
      "outputs": []
    },
    {
      "cell_type": "code",
      "metadata": {
        "id": "4-6csQqJHKbd"
      },
      "source": [
        "from sklearn.model_selection import train_test_split\n",
        "X_train,X_validation,y_train,y_validation=train_test_split(X_train,y_train,test_size=0.2,random_state=2020)"
      ],
      "execution_count": 23,
      "outputs": []
    },
    {
      "cell_type": "code",
      "metadata": {
        "colab": {
          "base_uri": "https://localhost:8080/"
        },
        "id": "H79XEc9-Hv6d",
        "outputId": "1315861d-9f2a-41d3-8312-1b82edeeb63d"
      },
      "source": [
        "X_train.shape,X_validation.shape,y_train.shape,y_validation.shape"
      ],
      "execution_count": 24,
      "outputs": [
        {
          "output_type": "execute_result",
          "data": {
            "text/plain": [
              "((48000, 28, 28, 1), (12000, 28, 28, 1), (48000,), (12000,))"
            ]
          },
          "metadata": {},
          "execution_count": 24
        }
      ]
    },
    {
      "cell_type": "code",
      "metadata": {
        "id": "FJUKYK6EH48U"
      },
      "source": [
        "# Build CNN Model"
      ],
      "execution_count": 25,
      "outputs": []
    },
    {
      "cell_type": "code",
      "metadata": {
        "id": "edWbCtp6IKY-"
      },
      "source": [
        "model=keras.models.Sequential([\n",
        "                         keras.layers.Conv2D(filters=32,kernel_size=3,strides=(1,1),padding='valid',activation='relu',input_shape=[28,28,1]),\n",
        "                         keras.layers.MaxPooling2D(pool_size=(2,2)),\n",
        "                         keras.layers.Flatten(),\n",
        "                         keras.layers.Dense(units=128,activation='relu'),\n",
        "                         keras.layers.Dense(units=10,activation='softmax')\n",
        "])"
      ],
      "execution_count": 26,
      "outputs": []
    },
    {
      "cell_type": "code",
      "metadata": {
        "colab": {
          "base_uri": "https://localhost:8080/"
        },
        "id": "XrwagQ8uK98P",
        "outputId": "bf424c76-b42f-44ae-8ffd-04713b456034"
      },
      "source": [
        "model.summary()"
      ],
      "execution_count": 27,
      "outputs": [
        {
          "output_type": "stream",
          "text": [
            "Model: \"sequential\"\n",
            "_________________________________________________________________\n",
            "Layer (type)                 Output Shape              Param #   \n",
            "=================================================================\n",
            "conv2d (Conv2D)              (None, 26, 26, 32)        320       \n",
            "_________________________________________________________________\n",
            "max_pooling2d (MaxPooling2D) (None, 13, 13, 32)        0         \n",
            "_________________________________________________________________\n",
            "flatten (Flatten)            (None, 5408)              0         \n",
            "_________________________________________________________________\n",
            "dense (Dense)                (None, 128)               692352    \n",
            "_________________________________________________________________\n",
            "dense_1 (Dense)              (None, 10)                1290      \n",
            "=================================================================\n",
            "Total params: 693,962\n",
            "Trainable params: 693,962\n",
            "Non-trainable params: 0\n",
            "_________________________________________________________________\n"
          ],
          "name": "stdout"
        }
      ]
    },
    {
      "cell_type": "code",
      "metadata": {
        "id": "FH6oZbvWLDk0"
      },
      "source": [
        "model.compile(optimizer='adam',loss='sparse_categorical_crossentropy',metrics=['accuracy'])"
      ],
      "execution_count": 29,
      "outputs": []
    },
    {
      "cell_type": "code",
      "metadata": {
        "colab": {
          "base_uri": "https://localhost:8080/"
        },
        "id": "NiQptoIuL0ie",
        "outputId": "26fdab9a-f5cb-4551-cc10-b62575b676fa"
      },
      "source": [
        "model.fit(X_train,y_train,epochs=10,batch_size=512,verbose=1,validation_data=(X_validation,y_validation))"
      ],
      "execution_count": 30,
      "outputs": [
        {
          "output_type": "stream",
          "text": [
            "Epoch 1/10\n",
            "94/94 [==============================] - 21s 213ms/step - loss: 0.6387 - accuracy: 0.7857 - val_loss: 0.4254 - val_accuracy: 0.8493\n",
            "Epoch 2/10\n",
            "94/94 [==============================] - 20s 212ms/step - loss: 0.3780 - accuracy: 0.8679 - val_loss: 0.3674 - val_accuracy: 0.8717\n",
            "Epoch 3/10\n",
            "94/94 [==============================] - 20s 215ms/step - loss: 0.3272 - accuracy: 0.8845 - val_loss: 0.3430 - val_accuracy: 0.8806\n",
            "Epoch 4/10\n",
            "94/94 [==============================] - 20s 215ms/step - loss: 0.2957 - accuracy: 0.8959 - val_loss: 0.3146 - val_accuracy: 0.8903\n",
            "Epoch 5/10\n",
            "94/94 [==============================] - 20s 213ms/step - loss: 0.2754 - accuracy: 0.9016 - val_loss: 0.3009 - val_accuracy: 0.8922\n",
            "Epoch 6/10\n",
            "94/94 [==============================] - 20s 212ms/step - loss: 0.2580 - accuracy: 0.9075 - val_loss: 0.2839 - val_accuracy: 0.8997\n",
            "Epoch 7/10\n",
            "94/94 [==============================] - 20s 212ms/step - loss: 0.2426 - accuracy: 0.9128 - val_loss: 0.2753 - val_accuracy: 0.9030\n",
            "Epoch 8/10\n",
            "94/94 [==============================] - 20s 211ms/step - loss: 0.2356 - accuracy: 0.9161 - val_loss: 0.2753 - val_accuracy: 0.9025\n",
            "Epoch 9/10\n",
            "94/94 [==============================] - 20s 213ms/step - loss: 0.2176 - accuracy: 0.9220 - val_loss: 0.2718 - val_accuracy: 0.9067\n",
            "Epoch 10/10\n",
            "94/94 [==============================] - 20s 212ms/step - loss: 0.2061 - accuracy: 0.9261 - val_loss: 0.2606 - val_accuracy: 0.9099\n"
          ],
          "name": "stdout"
        },
        {
          "output_type": "execute_result",
          "data": {
            "text/plain": [
              "<keras.callbacks.History at 0x7ff37c6751d0>"
            ]
          },
          "metadata": {},
          "execution_count": 30
        }
      ]
    },
    {
      "cell_type": "code",
      "metadata": {
        "id": "GqYyy5QBMaCM"
      },
      "source": [
        ""
      ],
      "execution_count": null,
      "outputs": []
    },
    {
      "cell_type": "markdown",
      "metadata": {
        "id": "UxDPPvlKG9PA"
      },
      "source": [
        "# test the model"
      ]
    },
    {
      "cell_type": "code",
      "metadata": {
        "id": "hv2RoudpHALM"
      },
      "source": [
        ""
      ],
      "execution_count": null,
      "outputs": []
    },
    {
      "cell_type": "code",
      "metadata": {
        "id": "FrgIVZUVHJzo"
      },
      "source": [
        ""
      ],
      "execution_count": null,
      "outputs": []
    }
  ]
}